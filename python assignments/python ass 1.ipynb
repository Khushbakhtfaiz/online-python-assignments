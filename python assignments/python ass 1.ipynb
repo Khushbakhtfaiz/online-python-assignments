{
 "cells": [
  {
   "cell_type": "markdown",
   "id": "e2083f83",
   "metadata": {},
   "source": [
    "# Assignment 1"
   ]
  },
  {
   "cell_type": "code",
   "execution_count": 10,
   "id": "d340ea15",
   "metadata": {},
   "outputs": [
    {
     "name": "stdout",
     "output_type": "stream",
     "text": [
      "Twinkle,twinkle,little star,\n",
      "\tHow I wonder what you are!\n",
      "\t\tUp above the world so high,\n",
      "\t\tLike a diamond in the sky.\n",
      "Twinkle,twinkle,little star,\n",
      "\tHow I wonder what you are\n"
     ]
    }
   ],
   "source": [
    "print(\"Twinkle,twinkle,little star,\\n\\tHow I wonder what you are!\\n\\t\\tUp above the world so high,\\n\\t\\tLike a diamond in the sky.\\nTwinkle,twinkle,little star,\\n\\tHow I wonder what you are\")"
   ]
  },
  {
   "cell_type": "code",
   "execution_count": 17,
   "id": "35279edd",
   "metadata": {},
   "outputs": [
    {
     "name": "stdout",
     "output_type": "stream",
     "text": [
      "python version:3.7\n"
     ]
    }
   ],
   "source": [
    "print(\"python version:3.7\")"
   ]
  },
  {
   "cell_type": "code",
   "execution_count": 18,
   "id": "9f3bc291",
   "metadata": {},
   "outputs": [
    {
     "name": "stdout",
     "output_type": "stream",
     "text": [
      "current date: 10 jan 2022\n"
     ]
    }
   ],
   "source": [
    "print(\"current date: 10 jan 2022\")"
   ]
  },
  {
   "cell_type": "code",
   "execution_count": 19,
   "id": "ba5b423c",
   "metadata": {},
   "outputs": [
    {
     "name": "stdout",
     "output_type": "stream",
     "text": [
      "current time:7:05 pm\n"
     ]
    }
   ],
   "source": [
    "print(\"current time:7:05 pm\")"
   ]
  },
  {
   "cell_type": "code",
   "execution_count": 4,
   "id": "19a27be3",
   "metadata": {},
   "outputs": [
    {
     "name": "stdout",
     "output_type": "stream",
     "text": [
      "radius of circle:5\n",
      "area of circle is 78.55\n"
     ]
    }
   ],
   "source": [
    "n1 = int(input(\"radius of circle:\"))\n",
    "print(\"area of circle is\", (3.142*n1**2))"
   ]
  },
  {
   "cell_type": "code",
   "execution_count": 2,
   "id": "432598fa",
   "metadata": {},
   "outputs": [
    {
     "name": "stdout",
     "output_type": "stream",
     "text": [
      "enter your first name:ali\n",
      "enter your last name:asghar\n",
      "asghar ali\n"
     ]
    }
   ],
   "source": [
    "n2 = input(\"enter your first name:\")\n",
    "n3 = input(\"enter your last name:\")\n",
    "print(n3,end=\" \")\n",
    "print(n2)"
   ]
  },
  {
   "cell_type": "code",
   "execution_count": 3,
   "id": "bef38da3",
   "metadata": {},
   "outputs": [
    {
     "name": "stdout",
     "output_type": "stream",
     "text": [
      "first number:4\n",
      "4\n",
      "second number:6\n",
      "6\n",
      "sum of numbers 10\n"
     ]
    }
   ],
   "source": [
    "a = int(input(\"first number:\"))\n",
    "print(a)\n",
    "b = int(input(\"second number:\"))\n",
    "print(b)\n",
    "print(\"sum of numbers\",a+b)"
   ]
  },
  {
   "cell_type": "code",
   "execution_count": 6,
   "id": "2cd0da56",
   "metadata": {},
   "outputs": [
    {
     "name": "stdout",
     "output_type": "stream",
     "text": [
      "enter your email adress:khushbakht.4749@gmail.com\n",
      "enter your password:farhana1995\n",
      "enter your roll number:234\n",
      "your form has submitted successfully\n"
     ]
    }
   ],
   "source": [
    "a = input(\"enter your email adress:\")\n",
    "b = input(\"enter your password:\")\n",
    "c = input(\"enter your roll number:\")\n",
    "print(\"your form has submitted successfully\")"
   ]
  },
  {
   "cell_type": "code",
   "execution_count": null,
   "id": "46fd06bf",
   "metadata": {},
   "outputs": [],
   "source": [
    "a1 = input(\"what is your caulification:(metric/inter/graduate):\")\n",
    "if a1==\"metric\":\n",
    "    print(f\"you are eligible for scholarship of 2000\")\n",
    "elif a1==\"inter\":\n",
    "    print(f\"you are eligible for scholarship of 4000\")\n",
    "elif a1==\"graduate\":\n",
    "    print(f\"you are eligible for scholarship of 10000\")\n",
    "else:\n",
    "    print(f\"you are not eligible for this scholarship\")"
   ]
  },
  {
   "cell_type": "code",
   "execution_count": null,
   "id": "5df1214b",
   "metadata": {},
   "outputs": [],
   "source": []
  }
 ],
 "metadata": {
  "kernelspec": {
   "display_name": "Python 3 (ipykernel)",
   "language": "python",
   "name": "python3"
  },
  "language_info": {
   "codemirror_mode": {
    "name": "ipython",
    "version": 3
   },
   "file_extension": ".py",
   "mimetype": "text/x-python",
   "name": "python",
   "nbconvert_exporter": "python",
   "pygments_lexer": "ipython3",
   "version": "3.9.7"
  }
 },
 "nbformat": 4,
 "nbformat_minor": 5
}
